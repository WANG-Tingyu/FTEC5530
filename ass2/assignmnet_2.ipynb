{
 "cells": [
  {
   "cell_type": "code",
   "execution_count": 21,
   "id": "cb54b471",
   "metadata": {},
   "outputs": [],
   "source": [
    "t: (\"DSTFF\";enlist \",\") 0:`$\"trade.csv\";\n",
    "q: (\"DSTFFFF\";enlist \",\") 0:`$\"quote.csv\";\n",
    "p: (\"DSSSITTFF\";enlist \",\") 0:`$\"parent_order.csv\";\n",
    "c: (\"SSDSTFF\";enlist \",\") 0:`$\"child_order.csv\";\n",
    "t:update time:?[time>15:00;15:00:00.000;time] from t\n",
    "q:update time:?[time>15:00;15:00:00.000;time] from q\n",
    "/t: update time:09:25|time&15:00 from t;"
   ]
  },
  {
   "cell_type": "code",
   "execution_count": 15,
   "id": "f6576b0b",
   "metadata": {},
   "outputs": [],
   "source": [
    "\\c 20 200"
   ]
  },
  {
   "cell_type": "code",
   "execution_count": null,
   "id": "19c50f29",
   "metadata": {},
   "outputs": [],
   "source": [
    "bench:{[benchpx;px;side] 10000*side*(benchpx-px)%benchpx};"
   ]
  },
  {
   "cell_type": "code",
   "execution_count": 19,
   "id": "03e667d0",
   "metadata": {},
   "outputs": [],
   "source": [
    "tca_calc:{[item]\n",
    "    t1: select from t where date=item`date, sym=item`sym;\n",
    "    q1: update midpx:0.5*bid+ask from select from q where date = item`date, sym = item`sym;\n",
    "    c1: select from c where date=item`date, sym=item`sym, parentid=item`orderid;\n",
    "    \n",
    "    d: select DV:sum size, open:first price, close:last price from t1;\n",
    "    d: d,'select spread: avg 10000*(ask-bid)%0.5*ask+bid from q1 where time within (item`starttime;item`endtime);\n",
    "    d: d,'select arrival:last midpx from q1 where time<=item`starttime;\n",
    "    d: d,'select ivwap:size wavg price, ivol: sum size from t1 where time within (item`starttime;item`endtime);\n",
    "    d: d,'select avgpx:size wavg price, sum size from c1;\n",
    "    \n",
    "    / calculate moo moc passive aggressive\n",
    "    c1: update pass: (item`side) * signum ( midpx-price) from aj[`time;c1;select time,midpx from q1];\n",
    "    c1: update pass:2 from c1 where time<09:30;\n",
    "    c1: update pass:-2 from c1 where time>14:57;\n",
    "    d: d,'select moo: (sum size where pass = 2)%sum size, moc: (sum size where pass = -2)%sum size from c1;   \n",
    "    d: d,'select passive:(sum size where pass=1)%sum size, aggressive:(sum size where pass=-1)%sum size from c1;\n",
    "\n",
    "   \n",
    "    d: d,'select pwp5:size wavg price from (update vol5:sums size*0.05 from select from t1 where time>=item`starttime) where vol5 <=item`qty;\n",
    "    d: d,'select notional:sum price*size from c1;\n",
    "    \n",
    "    d: (enlist item), 'd;\n",
    "    \n",
    "    d: update arrival:open from d where starttime<09:30; \n",
    "    res: select orderid, notional, adv:size%DV, speed:size%ivol, spread, open:bench[open;avgpx;side], arrival:bench[arrival;avgpx;side], ivwap:bench[ivwap;avgpx;side], close:bench[close;avgpx;side], pwp5:bench[pwp5;avgpx;side],moo: moo, moc: moc, passive, aggressive from d;\n",
    "    res\n",
    "  };"
   ]
  },
  {
   "cell_type": "code",
   "execution_count": 25,
   "id": "0b61aa29",
   "metadata": {
    "scrolled": true
   },
   "outputs": [
    {
     "data": {
      "text/plain": [
       ",5\n"
      ]
     },
     "execution_count": 25,
     "metadata": {},
     "output_type": "execute_result"
    },
    {
     "data": {
      "text/plain": [
       "OrderID Notional     ADV         Speed      Spread   Open      Arrival   iVWAP     Close     PWP5      MOO         MOC        Passive   Aggressive\n",
       "--------------------------------------------------------------------------------------------------------------------------------------------------\n",
       "V001    1.589476e+07 0.008994977 0.01963853 8.604032 -30.88169 -30.88169 -2.530835 121.4737  0.5800275 0.031875    0          0.322875  0.64525   \n",
       "V002    2.338996e+07 0.007877907 0.01598804 3.977859 8.149419  25.82842  -4.185585 -33.88749 -13.122   0           0          0.328473  0.6668876 \n",
       "V003    4472776      0.003490736 0.01091937 7.319823 -69.38475 -69.38475 -6.428954 -112.4393 -25.38996 0.09940778  0          0.4826565 0.4179357 \n",
       "V004    2.849393e+07 0.01815438  0.01815438 4.058475 3.765729  3.765729  -1.660645 -10.10912 4.979707  0           0.03265925 0.4331648 0.5220425 \n",
       "V005    3.313667e+07 0.02268216  0.02268216 7.154709 -149.2816 -149.2816 17.85896  -117.6897 93.14445  0.007265411 0.03001174 0.6237635 0.3387358 \n",
       "All     1.053881e+08 0.01529348  0.01901401 5.838098 -51.71343 -47.78973 3.582807  -33.71009 26.73093  0.01131082  0.01826657 0.4553248 0.5107172 \n"
      ]
     },
     "execution_count": 25,
     "metadata": {},
     "output_type": "execute_result"
    }
   ],
   "source": [
    "result: raze tca_calc each p;\n",
    "ass2_final_res: select OrderID: orderid, Notional:notional, ADV:adv, Speed:speed, Spread:spread,Open:open, Arrival:arrival, iVWAP:ivwap, Close:close, PWP5:pwp5, MOO:moo, MOC:moc, Passive:passive, Aggressive:aggressive from result\n",
    "al: update OrderID: `All from select Notional:sum Notional,ADV:Notional wavg ADV, Speed:Notional wavg Speed, Spread:Notional wavg Spread, Open:Notional wavg Open,Arrival:Notional wavg Arrival,iVWAP: Notional wavg iVWAP,Close:Notional wavg Close,PWP5:Notional wavg PWP5,MOO:Notional wavg MOO, MOC:Notional wavg MOC,Passive:Notional wavg Passive,Aggressive:Notional wavg Aggressive from ass2_final_res\n",
    "al: `OrderID xcols al\n",
    "`ass2_final_res insert (al)\n",
    "ass2_final_res\n"
   ]
  },
  {
   "cell_type": "code",
   "execution_count": 24,
   "id": "a13c998b",
   "metadata": {},
   "outputs": [
    {
     "data": {
      "text/plain": [
       "`:ass2_final_res.csv\n"
      ]
     },
     "execution_count": 24,
     "metadata": {},
     "output_type": "execute_result"
    }
   ],
   "source": [
    "save `ass2_final_res.csv"
   ]
  },
  {
   "cell_type": "code",
   "execution_count": null,
   "id": "897487ec",
   "metadata": {},
   "outputs": [],
   "source": []
  }
 ],
 "metadata": {
  "kernelspec": {
   "display_name": "Q (kdb+)",
   "language": "q",
   "name": "qpk"
  },
  "language_info": {
   "file_extension": ".q",
   "mimetype": "text/x-q",
   "name": "q",
   "version": "4.0"
  }
 },
 "nbformat": 4,
 "nbformat_minor": 5
}
